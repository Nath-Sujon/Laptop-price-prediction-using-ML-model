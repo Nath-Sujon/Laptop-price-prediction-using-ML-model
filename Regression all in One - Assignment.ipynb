{
 "cells": [
  {
   "cell_type": "code",
   "execution_count": 1,
   "id": "2c7eaf31",
   "metadata": {},
   "outputs": [],
   "source": [
    "import matplotlib.pyplot as plt\n",
    "import pandas as pd\n",
    "import seaborn as sns"
   ]
  },
  {
   "cell_type": "code",
   "execution_count": 2,
   "id": "7687a6de",
   "metadata": {},
   "outputs": [],
   "source": [
    "df = pd.read_csv('global_laptop_selling_data.csv')"
   ]
  },
  {
   "cell_type": "code",
   "execution_count": 3,
   "id": "9d8a5023",
   "metadata": {},
   "outputs": [
    {
     "data": {
      "text/html": [
       "<div>\n",
       "<style scoped>\n",
       "    .dataframe tbody tr th:only-of-type {\n",
       "        vertical-align: middle;\n",
       "    }\n",
       "\n",
       "    .dataframe tbody tr th {\n",
       "        vertical-align: top;\n",
       "    }\n",
       "\n",
       "    .dataframe thead th {\n",
       "        text-align: right;\n",
       "    }\n",
       "</style>\n",
       "<table border=\"1\" class=\"dataframe\">\n",
       "  <thead>\n",
       "    <tr style=\"text-align: right;\">\n",
       "      <th></th>\n",
       "      <th>laptop_ID</th>\n",
       "      <th>Company</th>\n",
       "      <th>Product</th>\n",
       "      <th>TypeName</th>\n",
       "      <th>Inches</th>\n",
       "      <th>ScreenResolution</th>\n",
       "      <th>Cpu</th>\n",
       "      <th>Ram</th>\n",
       "      <th>Memory</th>\n",
       "      <th>Gpu</th>\n",
       "      <th>OpSys</th>\n",
       "      <th>Weight</th>\n",
       "      <th>Price_euros</th>\n",
       "    </tr>\n",
       "  </thead>\n",
       "  <tbody>\n",
       "    <tr>\n",
       "      <th>0</th>\n",
       "      <td>1</td>\n",
       "      <td>Apple</td>\n",
       "      <td>MacBook Pro</td>\n",
       "      <td>Ultrabook</td>\n",
       "      <td>13.3</td>\n",
       "      <td>IPS Panel Retina Display 2560x1600</td>\n",
       "      <td>Intel Core i5 2.3GHz</td>\n",
       "      <td>8GB</td>\n",
       "      <td>128GB SSD</td>\n",
       "      <td>Intel Iris Plus Graphics 640</td>\n",
       "      <td>macOS</td>\n",
       "      <td>1.37kg</td>\n",
       "      <td>1339.69</td>\n",
       "    </tr>\n",
       "    <tr>\n",
       "      <th>1</th>\n",
       "      <td>2</td>\n",
       "      <td>Apple</td>\n",
       "      <td>Macbook Air</td>\n",
       "      <td>Ultrabook</td>\n",
       "      <td>13.3</td>\n",
       "      <td>1440x900</td>\n",
       "      <td>Intel Core i5 1.8GHz</td>\n",
       "      <td>8GB</td>\n",
       "      <td>128GB Flash Storage</td>\n",
       "      <td>Intel HD Graphics 6000</td>\n",
       "      <td>macOS</td>\n",
       "      <td>1.34kg</td>\n",
       "      <td>898.94</td>\n",
       "    </tr>\n",
       "    <tr>\n",
       "      <th>2</th>\n",
       "      <td>3</td>\n",
       "      <td>HP</td>\n",
       "      <td>250 G6</td>\n",
       "      <td>Notebook</td>\n",
       "      <td>15.6</td>\n",
       "      <td>Full HD 1920x1080</td>\n",
       "      <td>Intel Core i5 7200U 2.5GHz</td>\n",
       "      <td>8GB</td>\n",
       "      <td>256GB SSD</td>\n",
       "      <td>Intel HD Graphics 620</td>\n",
       "      <td>No OS</td>\n",
       "      <td>1.86kg</td>\n",
       "      <td>575.00</td>\n",
       "    </tr>\n",
       "    <tr>\n",
       "      <th>3</th>\n",
       "      <td>4</td>\n",
       "      <td>Apple</td>\n",
       "      <td>MacBook Pro</td>\n",
       "      <td>Ultrabook</td>\n",
       "      <td>15.4</td>\n",
       "      <td>IPS Panel Retina Display 2880x1800</td>\n",
       "      <td>Intel Core i7 2.7GHz</td>\n",
       "      <td>16GB</td>\n",
       "      <td>512GB SSD</td>\n",
       "      <td>AMD Radeon Pro 455</td>\n",
       "      <td>macOS</td>\n",
       "      <td>1.83kg</td>\n",
       "      <td>2537.45</td>\n",
       "    </tr>\n",
       "    <tr>\n",
       "      <th>4</th>\n",
       "      <td>5</td>\n",
       "      <td>Apple</td>\n",
       "      <td>MacBook Pro</td>\n",
       "      <td>Ultrabook</td>\n",
       "      <td>13.3</td>\n",
       "      <td>IPS Panel Retina Display 2560x1600</td>\n",
       "      <td>Intel Core i5 3.1GHz</td>\n",
       "      <td>8GB</td>\n",
       "      <td>256GB SSD</td>\n",
       "      <td>Intel Iris Plus Graphics 650</td>\n",
       "      <td>macOS</td>\n",
       "      <td>1.37kg</td>\n",
       "      <td>1803.60</td>\n",
       "    </tr>\n",
       "  </tbody>\n",
       "</table>\n",
       "</div>"
      ],
      "text/plain": [
       "   laptop_ID Company      Product   TypeName  Inches  \\\n",
       "0          1   Apple  MacBook Pro  Ultrabook    13.3   \n",
       "1          2   Apple  Macbook Air  Ultrabook    13.3   \n",
       "2          3      HP       250 G6   Notebook    15.6   \n",
       "3          4   Apple  MacBook Pro  Ultrabook    15.4   \n",
       "4          5   Apple  MacBook Pro  Ultrabook    13.3   \n",
       "\n",
       "                     ScreenResolution                         Cpu   Ram  \\\n",
       "0  IPS Panel Retina Display 2560x1600        Intel Core i5 2.3GHz   8GB   \n",
       "1                            1440x900        Intel Core i5 1.8GHz   8GB   \n",
       "2                   Full HD 1920x1080  Intel Core i5 7200U 2.5GHz   8GB   \n",
       "3  IPS Panel Retina Display 2880x1800        Intel Core i7 2.7GHz  16GB   \n",
       "4  IPS Panel Retina Display 2560x1600        Intel Core i5 3.1GHz   8GB   \n",
       "\n",
       "                Memory                           Gpu  OpSys  Weight  \\\n",
       "0            128GB SSD  Intel Iris Plus Graphics 640  macOS  1.37kg   \n",
       "1  128GB Flash Storage        Intel HD Graphics 6000  macOS  1.34kg   \n",
       "2            256GB SSD         Intel HD Graphics 620  No OS  1.86kg   \n",
       "3            512GB SSD            AMD Radeon Pro 455  macOS  1.83kg   \n",
       "4            256GB SSD  Intel Iris Plus Graphics 650  macOS  1.37kg   \n",
       "\n",
       "   Price_euros  \n",
       "0      1339.69  \n",
       "1       898.94  \n",
       "2       575.00  \n",
       "3      2537.45  \n",
       "4      1803.60  "
      ]
     },
     "execution_count": 3,
     "metadata": {},
     "output_type": "execute_result"
    }
   ],
   "source": [
    "df.head()"
   ]
  },
  {
   "cell_type": "code",
   "execution_count": 4,
   "id": "e6737f1c",
   "metadata": {},
   "outputs": [
    {
     "data": {
      "text/plain": [
       "laptop_ID           1303\n",
       "Company               19\n",
       "Product              618\n",
       "TypeName               6\n",
       "Inches                18\n",
       "ScreenResolution      40\n",
       "Cpu                  118\n",
       "Ram                    9\n",
       "Memory                39\n",
       "Gpu                  106\n",
       "OpSys                  9\n",
       "Weight               179\n",
       "Price_euros          791\n",
       "dtype: int64"
      ]
     },
     "execution_count": 4,
     "metadata": {},
     "output_type": "execute_result"
    }
   ],
   "source": [
    "df.nunique()"
   ]
  },
  {
   "cell_type": "code",
   "execution_count": 5,
   "id": "56f898c2",
   "metadata": {},
   "outputs": [],
   "source": [
    "df = df.drop('laptop_ID', axis=1)"
   ]
  },
  {
   "cell_type": "code",
   "execution_count": 6,
   "id": "5913708b",
   "metadata": {},
   "outputs": [
    {
     "data": {
      "text/html": [
       "<div>\n",
       "<style scoped>\n",
       "    .dataframe tbody tr th:only-of-type {\n",
       "        vertical-align: middle;\n",
       "    }\n",
       "\n",
       "    .dataframe tbody tr th {\n",
       "        vertical-align: top;\n",
       "    }\n",
       "\n",
       "    .dataframe thead th {\n",
       "        text-align: right;\n",
       "    }\n",
       "</style>\n",
       "<table border=\"1\" class=\"dataframe\">\n",
       "  <thead>\n",
       "    <tr style=\"text-align: right;\">\n",
       "      <th></th>\n",
       "      <th>Company</th>\n",
       "      <th>Product</th>\n",
       "      <th>TypeName</th>\n",
       "      <th>Inches</th>\n",
       "      <th>ScreenResolution</th>\n",
       "      <th>Cpu</th>\n",
       "      <th>Ram</th>\n",
       "      <th>Memory</th>\n",
       "      <th>Gpu</th>\n",
       "      <th>OpSys</th>\n",
       "      <th>Weight</th>\n",
       "      <th>Price_euros</th>\n",
       "    </tr>\n",
       "  </thead>\n",
       "  <tbody>\n",
       "    <tr>\n",
       "      <th>0</th>\n",
       "      <td>Apple</td>\n",
       "      <td>MacBook Pro</td>\n",
       "      <td>Ultrabook</td>\n",
       "      <td>13.3</td>\n",
       "      <td>IPS Panel Retina Display 2560x1600</td>\n",
       "      <td>Intel Core i5 2.3GHz</td>\n",
       "      <td>8GB</td>\n",
       "      <td>128GB SSD</td>\n",
       "      <td>Intel Iris Plus Graphics 640</td>\n",
       "      <td>macOS</td>\n",
       "      <td>1.37kg</td>\n",
       "      <td>1339.69</td>\n",
       "    </tr>\n",
       "    <tr>\n",
       "      <th>1</th>\n",
       "      <td>Apple</td>\n",
       "      <td>Macbook Air</td>\n",
       "      <td>Ultrabook</td>\n",
       "      <td>13.3</td>\n",
       "      <td>1440x900</td>\n",
       "      <td>Intel Core i5 1.8GHz</td>\n",
       "      <td>8GB</td>\n",
       "      <td>128GB Flash Storage</td>\n",
       "      <td>Intel HD Graphics 6000</td>\n",
       "      <td>macOS</td>\n",
       "      <td>1.34kg</td>\n",
       "      <td>898.94</td>\n",
       "    </tr>\n",
       "    <tr>\n",
       "      <th>2</th>\n",
       "      <td>HP</td>\n",
       "      <td>250 G6</td>\n",
       "      <td>Notebook</td>\n",
       "      <td>15.6</td>\n",
       "      <td>Full HD 1920x1080</td>\n",
       "      <td>Intel Core i5 7200U 2.5GHz</td>\n",
       "      <td>8GB</td>\n",
       "      <td>256GB SSD</td>\n",
       "      <td>Intel HD Graphics 620</td>\n",
       "      <td>No OS</td>\n",
       "      <td>1.86kg</td>\n",
       "      <td>575.00</td>\n",
       "    </tr>\n",
       "    <tr>\n",
       "      <th>3</th>\n",
       "      <td>Apple</td>\n",
       "      <td>MacBook Pro</td>\n",
       "      <td>Ultrabook</td>\n",
       "      <td>15.4</td>\n",
       "      <td>IPS Panel Retina Display 2880x1800</td>\n",
       "      <td>Intel Core i7 2.7GHz</td>\n",
       "      <td>16GB</td>\n",
       "      <td>512GB SSD</td>\n",
       "      <td>AMD Radeon Pro 455</td>\n",
       "      <td>macOS</td>\n",
       "      <td>1.83kg</td>\n",
       "      <td>2537.45</td>\n",
       "    </tr>\n",
       "    <tr>\n",
       "      <th>4</th>\n",
       "      <td>Apple</td>\n",
       "      <td>MacBook Pro</td>\n",
       "      <td>Ultrabook</td>\n",
       "      <td>13.3</td>\n",
       "      <td>IPS Panel Retina Display 2560x1600</td>\n",
       "      <td>Intel Core i5 3.1GHz</td>\n",
       "      <td>8GB</td>\n",
       "      <td>256GB SSD</td>\n",
       "      <td>Intel Iris Plus Graphics 650</td>\n",
       "      <td>macOS</td>\n",
       "      <td>1.37kg</td>\n",
       "      <td>1803.60</td>\n",
       "    </tr>\n",
       "  </tbody>\n",
       "</table>\n",
       "</div>"
      ],
      "text/plain": [
       "  Company      Product   TypeName  Inches                    ScreenResolution  \\\n",
       "0   Apple  MacBook Pro  Ultrabook    13.3  IPS Panel Retina Display 2560x1600   \n",
       "1   Apple  Macbook Air  Ultrabook    13.3                            1440x900   \n",
       "2      HP       250 G6   Notebook    15.6                   Full HD 1920x1080   \n",
       "3   Apple  MacBook Pro  Ultrabook    15.4  IPS Panel Retina Display 2880x1800   \n",
       "4   Apple  MacBook Pro  Ultrabook    13.3  IPS Panel Retina Display 2560x1600   \n",
       "\n",
       "                          Cpu   Ram               Memory  \\\n",
       "0        Intel Core i5 2.3GHz   8GB            128GB SSD   \n",
       "1        Intel Core i5 1.8GHz   8GB  128GB Flash Storage   \n",
       "2  Intel Core i5 7200U 2.5GHz   8GB            256GB SSD   \n",
       "3        Intel Core i7 2.7GHz  16GB            512GB SSD   \n",
       "4        Intel Core i5 3.1GHz   8GB            256GB SSD   \n",
       "\n",
       "                            Gpu  OpSys  Weight  Price_euros  \n",
       "0  Intel Iris Plus Graphics 640  macOS  1.37kg      1339.69  \n",
       "1        Intel HD Graphics 6000  macOS  1.34kg       898.94  \n",
       "2         Intel HD Graphics 620  No OS  1.86kg       575.00  \n",
       "3            AMD Radeon Pro 455  macOS  1.83kg      2537.45  \n",
       "4  Intel Iris Plus Graphics 650  macOS  1.37kg      1803.60  "
      ]
     },
     "execution_count": 6,
     "metadata": {},
     "output_type": "execute_result"
    }
   ],
   "source": [
    "df.head() # y = df[['Price_euros']]"
   ]
  },
  {
   "cell_type": "markdown",
   "id": "b80e358c",
   "metadata": {},
   "source": [
    "# Preprocessing"
   ]
  },
  {
   "cell_type": "code",
   "execution_count": 7,
   "id": "ab97d92b",
   "metadata": {},
   "outputs": [],
   "source": [
    "df[\"Weight\"] = df[\"Weight\"].str.replace(\"kg\",\"\")\n",
    "df[\"Weight\"] = pd.to_numeric(df[\"Weight\"])\n",
    "df[\"Ram\"] = df[\"Ram\"].apply(lambda x : str(x).replace(\"GB\",\"\")).astype(int)"
   ]
  },
  {
   "cell_type": "code",
   "execution_count": 8,
   "id": "c672b4dd",
   "metadata": {},
   "outputs": [
    {
     "data": {
      "text/html": [
       "<div>\n",
       "<style scoped>\n",
       "    .dataframe tbody tr th:only-of-type {\n",
       "        vertical-align: middle;\n",
       "    }\n",
       "\n",
       "    .dataframe tbody tr th {\n",
       "        vertical-align: top;\n",
       "    }\n",
       "\n",
       "    .dataframe thead th {\n",
       "        text-align: right;\n",
       "    }\n",
       "</style>\n",
       "<table border=\"1\" class=\"dataframe\">\n",
       "  <thead>\n",
       "    <tr style=\"text-align: right;\">\n",
       "      <th></th>\n",
       "      <th>Company</th>\n",
       "      <th>Product</th>\n",
       "      <th>TypeName</th>\n",
       "      <th>Inches</th>\n",
       "      <th>ScreenResolution</th>\n",
       "      <th>Cpu</th>\n",
       "      <th>Ram</th>\n",
       "      <th>Memory</th>\n",
       "      <th>Gpu</th>\n",
       "      <th>OpSys</th>\n",
       "      <th>Weight</th>\n",
       "      <th>Price_euros</th>\n",
       "    </tr>\n",
       "  </thead>\n",
       "  <tbody>\n",
       "    <tr>\n",
       "      <th>0</th>\n",
       "      <td>Apple</td>\n",
       "      <td>MacBook Pro</td>\n",
       "      <td>Ultrabook</td>\n",
       "      <td>13.3</td>\n",
       "      <td>IPS Panel Retina Display 2560x1600</td>\n",
       "      <td>Intel Core i5 2.3GHz</td>\n",
       "      <td>8</td>\n",
       "      <td>128GB SSD</td>\n",
       "      <td>Intel Iris Plus Graphics 640</td>\n",
       "      <td>macOS</td>\n",
       "      <td>1.37</td>\n",
       "      <td>1339.69</td>\n",
       "    </tr>\n",
       "    <tr>\n",
       "      <th>1</th>\n",
       "      <td>Apple</td>\n",
       "      <td>Macbook Air</td>\n",
       "      <td>Ultrabook</td>\n",
       "      <td>13.3</td>\n",
       "      <td>1440x900</td>\n",
       "      <td>Intel Core i5 1.8GHz</td>\n",
       "      <td>8</td>\n",
       "      <td>128GB Flash Storage</td>\n",
       "      <td>Intel HD Graphics 6000</td>\n",
       "      <td>macOS</td>\n",
       "      <td>1.34</td>\n",
       "      <td>898.94</td>\n",
       "    </tr>\n",
       "    <tr>\n",
       "      <th>2</th>\n",
       "      <td>HP</td>\n",
       "      <td>250 G6</td>\n",
       "      <td>Notebook</td>\n",
       "      <td>15.6</td>\n",
       "      <td>Full HD 1920x1080</td>\n",
       "      <td>Intel Core i5 7200U 2.5GHz</td>\n",
       "      <td>8</td>\n",
       "      <td>256GB SSD</td>\n",
       "      <td>Intel HD Graphics 620</td>\n",
       "      <td>No OS</td>\n",
       "      <td>1.86</td>\n",
       "      <td>575.00</td>\n",
       "    </tr>\n",
       "    <tr>\n",
       "      <th>3</th>\n",
       "      <td>Apple</td>\n",
       "      <td>MacBook Pro</td>\n",
       "      <td>Ultrabook</td>\n",
       "      <td>15.4</td>\n",
       "      <td>IPS Panel Retina Display 2880x1800</td>\n",
       "      <td>Intel Core i7 2.7GHz</td>\n",
       "      <td>16</td>\n",
       "      <td>512GB SSD</td>\n",
       "      <td>AMD Radeon Pro 455</td>\n",
       "      <td>macOS</td>\n",
       "      <td>1.83</td>\n",
       "      <td>2537.45</td>\n",
       "    </tr>\n",
       "    <tr>\n",
       "      <th>4</th>\n",
       "      <td>Apple</td>\n",
       "      <td>MacBook Pro</td>\n",
       "      <td>Ultrabook</td>\n",
       "      <td>13.3</td>\n",
       "      <td>IPS Panel Retina Display 2560x1600</td>\n",
       "      <td>Intel Core i5 3.1GHz</td>\n",
       "      <td>8</td>\n",
       "      <td>256GB SSD</td>\n",
       "      <td>Intel Iris Plus Graphics 650</td>\n",
       "      <td>macOS</td>\n",
       "      <td>1.37</td>\n",
       "      <td>1803.60</td>\n",
       "    </tr>\n",
       "  </tbody>\n",
       "</table>\n",
       "</div>"
      ],
      "text/plain": [
       "  Company      Product   TypeName  Inches                    ScreenResolution  \\\n",
       "0   Apple  MacBook Pro  Ultrabook    13.3  IPS Panel Retina Display 2560x1600   \n",
       "1   Apple  Macbook Air  Ultrabook    13.3                            1440x900   \n",
       "2      HP       250 G6   Notebook    15.6                   Full HD 1920x1080   \n",
       "3   Apple  MacBook Pro  Ultrabook    15.4  IPS Panel Retina Display 2880x1800   \n",
       "4   Apple  MacBook Pro  Ultrabook    13.3  IPS Panel Retina Display 2560x1600   \n",
       "\n",
       "                          Cpu  Ram               Memory  \\\n",
       "0        Intel Core i5 2.3GHz    8            128GB SSD   \n",
       "1        Intel Core i5 1.8GHz    8  128GB Flash Storage   \n",
       "2  Intel Core i5 7200U 2.5GHz    8            256GB SSD   \n",
       "3        Intel Core i7 2.7GHz   16            512GB SSD   \n",
       "4        Intel Core i5 3.1GHz    8            256GB SSD   \n",
       "\n",
       "                            Gpu  OpSys  Weight  Price_euros  \n",
       "0  Intel Iris Plus Graphics 640  macOS    1.37      1339.69  \n",
       "1        Intel HD Graphics 6000  macOS    1.34       898.94  \n",
       "2         Intel HD Graphics 620  No OS    1.86       575.00  \n",
       "3            AMD Radeon Pro 455  macOS    1.83      2537.45  \n",
       "4  Intel Iris Plus Graphics 650  macOS    1.37      1803.60  "
      ]
     },
     "execution_count": 8,
     "metadata": {},
     "output_type": "execute_result"
    }
   ],
   "source": [
    "df.head()"
   ]
  },
  {
   "cell_type": "code",
   "execution_count": 9,
   "id": "70e08522",
   "metadata": {},
   "outputs": [
    {
     "name": "stdout",
     "output_type": "stream",
     "text": [
      "<class 'pandas.core.frame.DataFrame'>\n",
      "RangeIndex: 1303 entries, 0 to 1302\n",
      "Data columns (total 12 columns):\n",
      " #   Column            Non-Null Count  Dtype  \n",
      "---  ------            --------------  -----  \n",
      " 0   Company           1303 non-null   object \n",
      " 1   Product           1303 non-null   object \n",
      " 2   TypeName          1303 non-null   object \n",
      " 3   Inches            1303 non-null   float64\n",
      " 4   ScreenResolution  1303 non-null   object \n",
      " 5   Cpu               1303 non-null   object \n",
      " 6   Ram               1303 non-null   int64  \n",
      " 7   Memory            1303 non-null   object \n",
      " 8   Gpu               1303 non-null   object \n",
      " 9   OpSys             1303 non-null   object \n",
      " 10  Weight            1303 non-null   float64\n",
      " 11  Price_euros       1303 non-null   float64\n",
      "dtypes: float64(3), int64(1), object(8)\n",
      "memory usage: 122.3+ KB\n"
     ]
    }
   ],
   "source": [
    "df.info()"
   ]
  },
  {
   "cell_type": "code",
   "execution_count": 10,
   "id": "8b5a5e65",
   "metadata": {},
   "outputs": [],
   "source": [
    "df_product_price = df.groupby(\"Company\")[\"Price_euros\"].mean()"
   ]
  },
  {
   "cell_type": "code",
   "execution_count": 11,
   "id": "6ea174db",
   "metadata": {},
   "outputs": [
    {
     "data": {
      "text/plain": [
       "Company\n",
       "Acer          626.775825\n",
       "Apple        1564.198571\n",
       "Asus         1104.169367\n",
       "Chuwi         314.296667\n",
       "Dell         1186.068990\n",
       "Fujitsu       729.000000\n",
       "Google       1677.666667\n",
       "HP           1067.774854\n",
       "Huawei       1424.000000\n",
       "LG           2099.000000\n",
       "Lenovo       1086.384444\n",
       "MSI          1728.908148\n",
       "Mediacom      295.000000\n",
       "Microsoft    1612.308333\n",
       "Razer        3346.142857\n",
       "Samsung      1413.444444\n",
       "Toshiba      1267.812500\n",
       "Vero          217.425000\n",
       "Xiaomi       1133.462500\n",
       "Name: Price_euros, dtype: float64"
      ]
     },
     "execution_count": 11,
     "metadata": {},
     "output_type": "execute_result"
    }
   ],
   "source": [
    "df_product_price"
   ]
  },
  {
   "cell_type": "code",
   "execution_count": 12,
   "id": "0e187aba",
   "metadata": {},
   "outputs": [],
   "source": [
    "df_product_price = pd.DataFrame(data = df_product_price)\n",
    "df_product_price.columns = [\"Product Avg Price\"]\n",
    "df_product_price.sort_values(by=\"Product Avg Price\",ascending=False,inplace=True)\n"
   ]
  },
  {
   "cell_type": "code",
   "execution_count": 13,
   "id": "5d895ef8",
   "metadata": {},
   "outputs": [
    {
     "data": {
      "text/plain": [
       "Text(0.5, 1.0, 'Average Price Per Company')"
      ]
     },
     "execution_count": 13,
     "metadata": {},
     "output_type": "execute_result"
    },
    {
     "data": {
      "image/png": "[encoded data removed]",
      "text/plain": [
       "<Figure size 1080x576 with 1 Axes>"
      ]
     },
     "metadata": {
      "needs_background": "light"
     },
     "output_type": "display_data"
    }
   ],
   "source": [
    "plt.figure(figsize = (15,8))\n",
    "splot = sns.barplot(data = df_product_price,x= df_product_price.index, y = 'Product Avg Price', palette = 'autumn')\n",
    "for p in splot.patches:\n",
    "    splot.annotate(format(p.get_height(), '.2f'), \n",
    "                   (p.get_x() + p.get_width() / 2., p.get_height()), \n",
    "                   ha = 'center', va = 'center', \n",
    "                   xytext = (0, 9), \n",
    "                   textcoords = 'offset points')\n",
    "    \n",
    "plt.xlabel(\"Name of the Company\", size=15)\n",
    "plt.ylabel(\"Average Product Price\", size=15)\n",
    "plt.title('Average Price Per Company')"
   ]
  },
  {
   "cell_type": "markdown",
   "id": "ae7450cf",
   "metadata": {},
   "source": [
    "# Keep Continue for Regression Model"
   ]
  },
  {
   "cell_type": "code",
   "execution_count": 14,
   "id": "472e06c5",
   "metadata": {},
   "outputs": [],
   "source": [
    "from sklearn.preprocessing import LabelEncoder\n",
    "label = LabelEncoder()\n"
   ]
  },
  {
   "cell_type": "code",
   "execution_count": 15,
   "id": "40c49067",
   "metadata": {},
   "outputs": [],
   "source": [
    "from pandas.core.dtypes.common import is_numeric_dtype\n",
    "       "
   ]
  },
  {
   "cell_type": "code",
   "execution_count": 16,
   "id": "46c2ef72",
   "metadata": {},
   "outputs": [],
   "source": [
    "for column in df.columns:\n",
    "    if is_numeric_dtype(df[column]):\n",
    "        continue\n",
    "    else:\n",
    "        df[column] = label.fit_transform(df[column])\n",
    "        "
   ]
  },
  {
   "cell_type": "code",
   "execution_count": 17,
   "id": "8cc7890b",
   "metadata": {},
   "outputs": [
    {
     "data": {
      "text/html": [
       "<div>\n",
       "<style scoped>\n",
       "    .dataframe tbody tr th:only-of-type {\n",
       "        vertical-align: middle;\n",
       "    }\n",
       "\n",
       "    .dataframe tbody tr th {\n",
       "        vertical-align: top;\n",
       "    }\n",
       "\n",
       "    .dataframe thead th {\n",
       "        text-align: right;\n",
       "    }\n",
       "</style>\n",
       "<table border=\"1\" class=\"dataframe\">\n",
       "  <thead>\n",
       "    <tr style=\"text-align: right;\">\n",
       "      <th></th>\n",
       "      <th>Company</th>\n",
       "      <th>Product</th>\n",
       "      <th>TypeName</th>\n",
       "      <th>Inches</th>\n",
       "      <th>ScreenResolution</th>\n",
       "      <th>Cpu</th>\n",
       "      <th>Ram</th>\n",
       "      <th>Memory</th>\n",
       "      <th>Gpu</th>\n",
       "      <th>OpSys</th>\n",
       "      <th>Weight</th>\n",
       "      <th>Price_euros</th>\n",
       "    </tr>\n",
       "  </thead>\n",
       "  <tbody>\n",
       "    <tr>\n",
       "      <th>0</th>\n",
       "      <td>1</td>\n",
       "      <td>300</td>\n",
       "      <td>4</td>\n",
       "      <td>13.3</td>\n",
       "      <td>23</td>\n",
       "      <td>65</td>\n",
       "      <td>8</td>\n",
       "      <td>4</td>\n",
       "      <td>56</td>\n",
       "      <td>8</td>\n",
       "      <td>1.37</td>\n",
       "      <td>1339.69</td>\n",
       "    </tr>\n",
       "    <tr>\n",
       "      <th>1</th>\n",
       "      <td>1</td>\n",
       "      <td>301</td>\n",
       "      <td>4</td>\n",
       "      <td>13.3</td>\n",
       "      <td>1</td>\n",
       "      <td>63</td>\n",
       "      <td>8</td>\n",
       "      <td>2</td>\n",
       "      <td>50</td>\n",
       "      <td>8</td>\n",
       "      <td>1.34</td>\n",
       "      <td>898.94</td>\n",
       "    </tr>\n",
       "    <tr>\n",
       "      <th>2</th>\n",
       "      <td>7</td>\n",
       "      <td>50</td>\n",
       "      <td>3</td>\n",
       "      <td>15.6</td>\n",
       "      <td>8</td>\n",
       "      <td>74</td>\n",
       "      <td>8</td>\n",
       "      <td>16</td>\n",
       "      <td>52</td>\n",
       "      <td>4</td>\n",
       "      <td>1.86</td>\n",
       "      <td>575.00</td>\n",
       "    </tr>\n",
       "    <tr>\n",
       "      <th>3</th>\n",
       "      <td>1</td>\n",
       "      <td>300</td>\n",
       "      <td>4</td>\n",
       "      <td>15.4</td>\n",
       "      <td>25</td>\n",
       "      <td>85</td>\n",
       "      <td>16</td>\n",
       "      <td>29</td>\n",
       "      <td>8</td>\n",
       "      <td>8</td>\n",
       "      <td>1.83</td>\n",
       "      <td>2537.45</td>\n",
       "    </tr>\n",
       "    <tr>\n",
       "      <th>4</th>\n",
       "      <td>1</td>\n",
       "      <td>300</td>\n",
       "      <td>4</td>\n",
       "      <td>13.3</td>\n",
       "      <td>23</td>\n",
       "      <td>67</td>\n",
       "      <td>8</td>\n",
       "      <td>16</td>\n",
       "      <td>57</td>\n",
       "      <td>8</td>\n",
       "      <td>1.37</td>\n",
       "      <td>1803.60</td>\n",
       "    </tr>\n",
       "  </tbody>\n",
       "</table>\n",
       "</div>"
      ],
      "text/plain": [
       "   Company  Product  TypeName  Inches  ScreenResolution  Cpu  Ram  Memory  \\\n",
       "0        1      300         4    13.3                23   65    8       4   \n",
       "1        1      301         4    13.3                 1   63    8       2   \n",
       "2        7       50         3    15.6                 8   74    8      16   \n",
       "3        1      300         4    15.4                25   85   16      29   \n",
       "4        1      300         4    13.3                23   67    8      16   \n",
       "\n",
       "   Gpu  OpSys  Weight  Price_euros  \n",
       "0   56      8    1.37      1339.69  \n",
       "1   50      8    1.34       898.94  \n",
       "2   52      4    1.86       575.00  \n",
       "3    8      8    1.83      2537.45  \n",
       "4   57      8    1.37      1803.60  "
      ]
     },
     "execution_count": 17,
     "metadata": {},
     "output_type": "execute_result"
    }
   ],
   "source": [
    "df.head()"
   ]
  },
  {
   "cell_type": "code",
   "execution_count": 18,
   "id": "e4b15915",
   "metadata": {},
   "outputs": [
    {
     "data": {
      "text/plain": [
       "Company             0\n",
       "Product             0\n",
       "TypeName            0\n",
       "Inches              0\n",
       "ScreenResolution    0\n",
       "Cpu                 0\n",
       "Ram                 0\n",
       "Memory              0\n",
       "Gpu                 0\n",
       "OpSys               0\n",
       "Weight              0\n",
       "Price_euros         0\n",
       "dtype: int64"
      ]
     },
     "execution_count": 18,
     "metadata": {},
     "output_type": "execute_result"
    }
   ],
   "source": [
    "df.isnull().sum()"
   ]
  },
  {
   "cell_type": "code",
   "execution_count": 19,
   "id": "f6c8f0e1",
   "metadata": {},
   "outputs": [],
   "source": [
    "# Splitting the data set\n",
    "y = df.Price_euros\n",
    "x = df.drop('Price_euros', axis =1)"
   ]
  },
  {
   "cell_type": "code",
   "execution_count": 20,
   "id": "13ac1cba",
   "metadata": {},
   "outputs": [],
   "source": [
    "from sklearn.model_selection import train_test_split as tts"
   ]
  },
  {
   "cell_type": "code",
   "execution_count": 21,
   "id": "90706d31",
   "metadata": {},
   "outputs": [],
   "source": [
    "xtrain, xtest, ytrain, ytest = tts(x,y,train_size=.70,random_state=1) # test_size=.30"
   ]
  },
  {
   "cell_type": "code",
   "execution_count": 22,
   "id": "7685ae4b",
   "metadata": {},
   "outputs": [
    {
     "data": {
      "text/html": [
       "<div>\n",
       "<style scoped>\n",
       "    .dataframe tbody tr th:only-of-type {\n",
       "        vertical-align: middle;\n",
       "    }\n",
       "\n",
       "    .dataframe tbody tr th {\n",
       "        vertical-align: top;\n",
       "    }\n",
       "\n",
       "    .dataframe thead th {\n",
       "        text-align: right;\n",
       "    }\n",
       "</style>\n",
       "<table border=\"1\" class=\"dataframe\">\n",
       "  <thead>\n",
       "    <tr style=\"text-align: right;\">\n",
       "      <th></th>\n",
       "      <th>Company</th>\n",
       "      <th>Product</th>\n",
       "      <th>TypeName</th>\n",
       "      <th>Inches</th>\n",
       "      <th>ScreenResolution</th>\n",
       "      <th>Cpu</th>\n",
       "      <th>Ram</th>\n",
       "      <th>Memory</th>\n",
       "      <th>Gpu</th>\n",
       "      <th>OpSys</th>\n",
       "      <th>Weight</th>\n",
       "    </tr>\n",
       "  </thead>\n",
       "  <tbody>\n",
       "    <tr>\n",
       "      <th>987</th>\n",
       "      <td>10</td>\n",
       "      <td>291</td>\n",
       "      <td>1</td>\n",
       "      <td>15.6</td>\n",
       "      <td>15</td>\n",
       "      <td>102</td>\n",
       "      <td>8</td>\n",
       "      <td>5</td>\n",
       "      <td>75</td>\n",
       "      <td>5</td>\n",
       "      <td>2.50</td>\n",
       "    </tr>\n",
       "    <tr>\n",
       "      <th>1146</th>\n",
       "      <td>7</td>\n",
       "      <td>110</td>\n",
       "      <td>4</td>\n",
       "      <td>12.5</td>\n",
       "      <td>8</td>\n",
       "      <td>88</td>\n",
       "      <td>8</td>\n",
       "      <td>16</td>\n",
       "      <td>46</td>\n",
       "      <td>7</td>\n",
       "      <td>1.26</td>\n",
       "    </tr>\n",
       "    <tr>\n",
       "      <th>1055</th>\n",
       "      <td>7</td>\n",
       "      <td>366</td>\n",
       "      <td>3</td>\n",
       "      <td>15.6</td>\n",
       "      <td>0</td>\n",
       "      <td>58</td>\n",
       "      <td>4</td>\n",
       "      <td>26</td>\n",
       "      <td>46</td>\n",
       "      <td>5</td>\n",
       "      <td>2.31</td>\n",
       "    </tr>\n",
       "    <tr>\n",
       "      <th>372</th>\n",
       "      <td>2</td>\n",
       "      <td>408</td>\n",
       "      <td>1</td>\n",
       "      <td>17.3</td>\n",
       "      <td>15</td>\n",
       "      <td>26</td>\n",
       "      <td>16</td>\n",
       "      <td>18</td>\n",
       "      <td>36</td>\n",
       "      <td>5</td>\n",
       "      <td>3.25</td>\n",
       "    </tr>\n",
       "    <tr>\n",
       "      <th>1273</th>\n",
       "      <td>7</td>\n",
       "      <td>2</td>\n",
       "      <td>3</td>\n",
       "      <td>15.6</td>\n",
       "      <td>0</td>\n",
       "      <td>89</td>\n",
       "      <td>6</td>\n",
       "      <td>10</td>\n",
       "      <td>20</td>\n",
       "      <td>5</td>\n",
       "      <td>2.19</td>\n",
       "    </tr>\n",
       "  </tbody>\n",
       "</table>\n",
       "</div>"
      ],
      "text/plain": [
       "      Company  Product  TypeName  Inches  ScreenResolution  Cpu  Ram  Memory  \\\n",
       "987        10      291         1    15.6                15  102    8       5   \n",
       "1146        7      110         4    12.5                 8   88    8      16   \n",
       "1055        7      366         3    15.6                 0   58    4      26   \n",
       "372         2      408         1    17.3                15   26   16      18   \n",
       "1273        7        2         3    15.6                 0   89    6      10   \n",
       "\n",
       "      Gpu  OpSys  Weight  \n",
       "987    75      5    2.50  \n",
       "1146   46      7    1.26  \n",
       "1055   46      5    2.31  \n",
       "372    36      5    3.25  \n",
       "1273   20      5    2.19  "
      ]
     },
     "execution_count": 22,
     "metadata": {},
     "output_type": "execute_result"
    }
   ],
   "source": [
    "xtrain.head()"
   ]
  },
  {
   "cell_type": "code",
   "execution_count": 23,
   "id": "7be59bf7",
   "metadata": {},
   "outputs": [
    {
     "data": {
      "text/plain": [
       "987     1189.00\n",
       "1146    2296.95\n",
       "1055     705.15\n",
       "372     2199.00\n",
       "1273     764.00\n",
       "Name: Price_euros, dtype: float64"
      ]
     },
     "execution_count": 23,
     "metadata": {},
     "output_type": "execute_result"
    }
   ],
   "source": [
    "ytrain.head()"
   ]
  },
  {
   "cell_type": "code",
   "execution_count": 24,
   "id": "c3f198de",
   "metadata": {},
   "outputs": [
    {
     "data": {
      "text/html": [
       "<div>\n",
       "<style scoped>\n",
       "    .dataframe tbody tr th:only-of-type {\n",
       "        vertical-align: middle;\n",
       "    }\n",
       "\n",
       "    .dataframe tbody tr th {\n",
       "        vertical-align: top;\n",
       "    }\n",
       "\n",
       "    .dataframe thead th {\n",
       "        text-align: right;\n",
       "    }\n",
       "</style>\n",
       "<table border=\"1\" class=\"dataframe\">\n",
       "  <thead>\n",
       "    <tr style=\"text-align: right;\">\n",
       "      <th></th>\n",
       "      <th>Company</th>\n",
       "      <th>Product</th>\n",
       "      <th>TypeName</th>\n",
       "      <th>Inches</th>\n",
       "      <th>ScreenResolution</th>\n",
       "      <th>Cpu</th>\n",
       "      <th>Ram</th>\n",
       "      <th>Memory</th>\n",
       "      <th>Gpu</th>\n",
       "      <th>OpSys</th>\n",
       "      <th>Weight</th>\n",
       "    </tr>\n",
       "  </thead>\n",
       "  <tbody>\n",
       "    <tr>\n",
       "      <th>644</th>\n",
       "      <td>0</td>\n",
       "      <td>127</td>\n",
       "      <td>3</td>\n",
       "      <td>15.6</td>\n",
       "      <td>0</td>\n",
       "      <td>56</td>\n",
       "      <td>4</td>\n",
       "      <td>26</td>\n",
       "      <td>46</td>\n",
       "      <td>5</td>\n",
       "      <td>2.40</td>\n",
       "    </tr>\n",
       "    <tr>\n",
       "      <th>1275</th>\n",
       "      <td>2</td>\n",
       "      <td>602</td>\n",
       "      <td>4</td>\n",
       "      <td>13.3</td>\n",
       "      <td>15</td>\n",
       "      <td>45</td>\n",
       "      <td>8</td>\n",
       "      <td>29</td>\n",
       "      <td>45</td>\n",
       "      <td>5</td>\n",
       "      <td>1.20</td>\n",
       "    </tr>\n",
       "    <tr>\n",
       "      <th>163</th>\n",
       "      <td>10</td>\n",
       "      <td>291</td>\n",
       "      <td>1</td>\n",
       "      <td>15.6</td>\n",
       "      <td>15</td>\n",
       "      <td>102</td>\n",
       "      <td>16</td>\n",
       "      <td>16</td>\n",
       "      <td>72</td>\n",
       "      <td>5</td>\n",
       "      <td>2.50</td>\n",
       "    </tr>\n",
       "    <tr>\n",
       "      <th>1008</th>\n",
       "      <td>7</td>\n",
       "      <td>362</td>\n",
       "      <td>3</td>\n",
       "      <td>14.0</td>\n",
       "      <td>8</td>\n",
       "      <td>74</td>\n",
       "      <td>8</td>\n",
       "      <td>16</td>\n",
       "      <td>66</td>\n",
       "      <td>5</td>\n",
       "      <td>1.64</td>\n",
       "    </tr>\n",
       "    <tr>\n",
       "      <th>909</th>\n",
       "      <td>9</td>\n",
       "      <td>193</td>\n",
       "      <td>4</td>\n",
       "      <td>14.0</td>\n",
       "      <td>13</td>\n",
       "      <td>97</td>\n",
       "      <td>8</td>\n",
       "      <td>29</td>\n",
       "      <td>52</td>\n",
       "      <td>5</td>\n",
       "      <td>0.98</td>\n",
       "    </tr>\n",
       "  </tbody>\n",
       "</table>\n",
       "</div>"
      ],
      "text/plain": [
       "      Company  Product  TypeName  Inches  ScreenResolution  Cpu  Ram  Memory  \\\n",
       "644         0      127         3    15.6                 0   56    4      26   \n",
       "1275        2      602         4    13.3                15   45    8      29   \n",
       "163        10      291         1    15.6                15  102   16      16   \n",
       "1008        7      362         3    14.0                 8   74    8      16   \n",
       "909         9      193         4    14.0                13   97    8      29   \n",
       "\n",
       "      Gpu  OpSys  Weight  \n",
       "644    46      5    2.40  \n",
       "1275   45      5    1.20  \n",
       "163    72      5    2.50  \n",
       "1008   66      5    1.64  \n",
       "909    52      5    0.98  "
      ]
     },
     "execution_count": 24,
     "metadata": {},
     "output_type": "execute_result"
    }
   ],
   "source": [
    "xtest.head()"
   ]
  },
  {
   "cell_type": "code",
   "execution_count": 25,
   "id": "b7701531",
   "metadata": {},
   "outputs": [
    {
     "data": {
      "text/plain": [
       "644      450.00\n",
       "1275     729.00\n",
       "163     1079.00\n",
       "1008    1049.26\n",
       "909     1899.00\n",
       "Name: Price_euros, dtype: float64"
      ]
     },
     "execution_count": 25,
     "metadata": {},
     "output_type": "execute_result"
    }
   ],
   "source": [
    "ytest.head()"
   ]
  },
  {
   "cell_type": "markdown",
   "id": "39357d89",
   "metadata": {},
   "source": [
    "# (1) Linear Regression for Multi variable "
   ]
  },
  {
   "cell_type": "code",
   "execution_count": 26,
   "id": "cb515ed0",
   "metadata": {},
   "outputs": [],
   "source": [
    "from sklearn.linear_model import LinearRegression"
   ]
  },
  {
   "cell_type": "code",
   "execution_count": 27,
   "id": "b54a5f48",
   "metadata": {},
   "outputs": [],
   "source": [
    "lr = LinearRegression() # creating object for linear model"
   ]
  },
  {
   "cell_type": "code",
   "execution_count": 28,
   "id": "246ee8f1",
   "metadata": {},
   "outputs": [
    {
     "data": {
      "text/plain": [
       "LinearRegression()"
      ]
     },
     "execution_count": 28,
     "metadata": {},
     "output_type": "execute_result"
    }
   ],
   "source": [
    "lr.fit(xtrain,ytrain)"
   ]
  },
  {
   "cell_type": "code",
   "execution_count": 29,
   "id": "7c60f0f2",
   "metadata": {},
   "outputs": [
    {
     "data": {
      "text/plain": [
       "array([ 1.29481744e+01,  9.83872059e-02,  4.02417798e+01, -8.14676096e+01,\n",
       "        7.70144077e+00,  4.40925129e+00,  8.48949688e+01,  5.64777892e+00,\n",
       "        3.76034983e+00,  8.78169601e+01,  1.10143811e+02])"
      ]
     },
     "execution_count": 29,
     "metadata": {},
     "output_type": "execute_result"
    }
   ],
   "source": [
    "# Finding coefficient and intercept\n",
    "\n",
    "lr.coef_"
   ]
  },
  {
   "cell_type": "code",
   "execution_count": 30,
   "id": "a35c3a1d",
   "metadata": {},
   "outputs": [
    {
     "data": {
      "text/plain": [
       "80.48832917593359"
      ]
     },
     "execution_count": 30,
     "metadata": {},
     "output_type": "execute_result"
    }
   ],
   "source": [
    "lr.intercept_"
   ]
  },
  {
   "cell_type": "code",
   "execution_count": 31,
   "id": "e151221b",
   "metadata": {},
   "outputs": [],
   "source": [
    "predicted_price1 = lr.predict(xtest)"
   ]
  },
  {
   "cell_type": "code",
   "execution_count": 32,
   "id": "bcdf8b08",
   "metadata": {},
   "outputs": [
    {
     "data": {
      "text/plain": [
       "array([ 552.56037332, 1140.41806282, 2007.0865437 , 1212.24459841,\n",
       "       1349.75658553, 1146.22001696, 1162.23803884,  619.24914114,\n",
       "        173.14784637, 1240.29604698, 1238.19385082, 1040.20947408,\n",
       "       1404.46728203, 1491.91675125, 1235.27923408, 1804.16669492,\n",
       "        889.07599099, 1195.33677265, 1060.47901263,  680.30024803,\n",
       "        907.48017711,  623.14200412, 1997.13689424, 1382.65211056,\n",
       "        659.70695491, 1638.72710941,  615.43954046, 1059.44551234,\n",
       "       1236.12976919, 1384.64643667, 2049.30281734,  672.2662009 ,\n",
       "       1152.10549286, 1376.47152221, 2110.02417574,  570.32748841,\n",
       "        684.41384575,  653.53821886,  261.45750631, 1187.87136886,\n",
       "       1052.33096448,  729.88940676,  726.51507699,  731.68152902,\n",
       "       1259.92589383,  501.33630138,  858.46123341, 2000.40621916,\n",
       "       1179.63621006, 2094.49208013, 1064.91581477, 1232.85580174,\n",
       "       2012.32390929, 1268.19444329, 1164.36479904, 1064.81742756,\n",
       "       1903.20196555, 1132.8197221 , 1084.19596708,  749.43602972,\n",
       "       1798.96024187, 1097.96889752, 1792.41158814, 2218.31173158,\n",
       "        723.93878845, 1375.02658553,  485.23607396,  298.72992324,\n",
       "       3265.91154523, 1409.10842594,  923.82931313, 1747.93077825,\n",
       "       1366.30408398, 1933.4625991 , 3304.39868754, 1325.30559786,\n",
       "       1053.32934483,  912.56964203,  844.91471533, 1932.17703367,\n",
       "        397.96269852,  835.04280194, 1055.11253158, 1189.99223024,\n",
       "        775.41727854, 2051.20630899, 2014.1506619 , 1982.20288914,\n",
       "       1227.1540545 ,  380.59724306, 1583.09888836, 1227.37364458,\n",
       "       1098.02861233, 1283.42395152,  890.5073267 , 2063.20043542,\n",
       "        474.489942  ,  551.39441595,  515.66653681, 1365.94397717,\n",
       "       1657.55498637, 1326.60564486, 1050.48523206, 2038.80875433,\n",
       "       1505.92819516, 1992.05661285, 1831.57525713,  386.02036761,\n",
       "       1326.81599646,  805.76070704, 1240.53265173,  550.39003144,\n",
       "        917.19510692,  745.3171664 , 1427.26610256,  809.54311887,\n",
       "       1323.41592764,  547.39118476, 1987.67619455,  750.22073596,\n",
       "       1259.59139756,  965.35314489, 1112.13510271, 1204.54759749,\n",
       "        849.3258317 , 1711.46507174,  375.50896476, 1473.04786128,\n",
       "        756.64754895,  478.66255922,  476.3923534 , 1764.72451474,\n",
       "       1042.05339888, 1971.49668982, 1429.03327533,  941.59484097,\n",
       "       1266.18117554,  815.574799  ,  809.43166049, 1377.66194975,\n",
       "       1039.05528953,  478.10269311,  666.95741914,  926.06407918,\n",
       "       1670.23824899, 1982.20288914, 1326.60546305,  159.30671848,\n",
       "       1990.5642747 , 2018.38210154, 1412.60356189, 1711.2679348 ,\n",
       "        932.58928143, 1289.57477634, 1011.49603993, 1095.12185866,\n",
       "        747.76764504,  946.99953424,  728.69382495,  362.24799451,\n",
       "       1036.82077826, 1718.55189977,  590.38237142, 1276.99693811,\n",
       "       1160.71651419, 1498.25874001,  309.15398113, 1781.76464824,\n",
       "       1846.72955201,  226.89651516, 1085.18982374, 1300.64571501,\n",
       "       2089.29363388,  765.3186128 , 2190.71604457, 2348.30406269,\n",
       "        828.47716981,  856.49923613,  907.48017711, 1036.82077826,\n",
       "        805.1856627 ,  467.42381035,  869.14444332, 1191.30600997,\n",
       "       1571.74158192, 1323.81788363, 1086.0276122 , 2126.6774921 ,\n",
       "       1303.69571839, 1281.29719631,  598.0739896 , 1429.63278153,\n",
       "       1383.83653981,  632.63450013,  625.4659881 ,  353.07853126,\n",
       "       1134.91850742, 1655.6192412 ,  327.02862417, 2097.79136076,\n",
       "        959.35213462, 1169.12811597, 1010.68029678,  768.89766426,\n",
       "        689.95372773, 1333.99753564,  275.27324291, 1053.45747062,\n",
       "        665.84733663, 1460.2411092 ,  525.18835318, 1217.57218917,\n",
       "       1241.5975592 ,  846.95508681, 1741.51245464, 2065.75152025,\n",
       "        910.92656921, 1174.82021672,  230.62570137,  661.36821329,\n",
       "       1637.12762164,  983.74771955,  545.98078015, 1849.04916464,\n",
       "       3363.91414345,  845.38938268, 1075.930093  , 1218.54765189,\n",
       "        927.05003442, 1532.48038447, 1102.66017954, 3339.43559868,\n",
       "        306.64344792, 1343.92225423, 3414.2309471 , 1187.99952669,\n",
       "       1284.51432017, 1092.10973441, 1884.34835653,  598.96545499,\n",
       "       2173.46657581,  463.1334013 ,  566.86944914, 1132.54367474,\n",
       "        461.50170248,  763.87551338, 1140.58889242,  859.67330447,\n",
       "        373.82059206,  935.07984845, 1387.27166281, 1982.446186  ,\n",
       "       1229.55831252, 1215.28361844, 1033.80073681,  937.87908182,\n",
       "        553.31647364, 1267.87750066,  481.6633251 , 1925.32413714,\n",
       "       1095.44547676, 1232.81215742,  884.72025904, 1157.70555218,\n",
       "       3510.47117751, 1255.37824082,  844.39891455, 1999.99894159,\n",
       "       3390.85648356, 5965.56771282, 1196.76001616,  874.85067508,\n",
       "        482.32010745,  693.78228837, 2085.16335975, 1977.37112428,\n",
       "        399.88465563, 1965.24889837, 1578.25639029, 1257.91447678,\n",
       "        520.26172939, 2047.63305992, 1754.42083875, 1358.03435906,\n",
       "        235.66596708, 1079.16459282, 1060.89144117, 1073.27093665,\n",
       "        400.57710813,  601.01461985,  399.74508626, 1050.82733456,\n",
       "       1154.05341395, 1241.41926543,  600.655767  , 1856.19353063,\n",
       "        646.07658524, 1290.54160901,  191.35630622, 1427.70245564,\n",
       "       2015.56570202,  571.23167659, 1383.83653981,  236.02066141,\n",
       "       1521.42706547, 1071.31345989, 1085.1621179 ,  695.55419823,\n",
       "        286.916643  , 1002.73721518, 1771.83886928,  807.77756141,\n",
       "       1219.5805209 ,  280.71134592, 1322.17618287, 1939.04729254,\n",
       "        988.89968216, 1273.91740733,  947.64436572,  639.5802365 ,\n",
       "        880.79214002,  845.41616189, 1880.54672291, 1787.67668066,\n",
       "        743.26539747, 1114.03726293, 1443.53373739, 1586.46643989,\n",
       "        596.85755018,  969.64051891, 1230.96631478, 1412.41716047,\n",
       "        678.07274347, 2217.55581715, 1212.93254647, 1059.95212749,\n",
       "        932.48516843, 1383.83653981,  901.45484397,  322.06395451,\n",
       "       1194.51708841, 1128.68658901, 1107.29887743,  582.30100157,\n",
       "        719.57338472, 1189.8150822 , 1255.58791092, 1352.53673824,\n",
       "       2659.81614452, 1259.75652687,  684.5685728 , 1045.39760989,\n",
       "       1409.64105138, 1956.80709439, 1068.47984217,  590.25578336,\n",
       "       1244.4227131 ,  949.72683753,  834.61927118,  672.35665297,\n",
       "        941.65434608,  910.45784142,  609.40184531, 1023.57829761,\n",
       "        283.72844336, 1000.46973484, 1288.24944253, 1593.27921831,\n",
       "        763.46967473, 1170.79386979,  649.02856005,  377.58003653,\n",
       "       1317.24955177,  805.5432768 ,  809.3941811 , 1498.25874001,\n",
       "       1269.56157487, 1246.11770627,  804.05907895,  872.19667575,\n",
       "       1166.61518995, 1484.26584226, 2017.62596109, 1343.01033876,\n",
       "       1704.08698421,  758.40829937, 1427.36705652,  795.10946969,\n",
       "        886.20411515, 1813.53948075,  948.62722625])"
      ]
     },
     "execution_count": 32,
     "metadata": {},
     "output_type": "execute_result"
    }
   ],
   "source": [
    "predicted_price1"
   ]
  },
  {
   "cell_type": "code",
   "execution_count": 33,
   "id": "ebfe6252",
   "metadata": {},
   "outputs": [],
   "source": [
    "#xtest['prediced_price1'] = lr.predict(xtest)"
   ]
  },
  {
   "cell_type": "code",
   "execution_count": 34,
   "id": "44fd2f24",
   "metadata": {},
   "outputs": [],
   "source": [
    "#xtest.head()"
   ]
  },
  {
   "cell_type": "code",
   "execution_count": 35,
   "id": "94f30b51",
   "metadata": {},
   "outputs": [],
   "source": [
    "#import pandas as pd\n",
    "#pd.concat([xtest,ytest], axis =1).head()"
   ]
  },
  {
   "cell_type": "code",
   "execution_count": 36,
   "id": "a964eae9",
   "metadata": {},
   "outputs": [
    {
     "name": "stdout",
     "output_type": "stream",
     "text": [
      "r2 socre is   0.6615488599822079\n"
     ]
    }
   ],
   "source": [
    "# Finding Accuracy R2 score\n",
    "\n",
    "from sklearn.metrics import r2_score\n",
    "from sklearn.metrics import mean_squared_error\n",
    "# predicting the accuracy score\n",
    "linear_score = r2_score(ytest, predicted_price1)\n",
    "print('r2 socre is  ',linear_score)"
   ]
  },
  {
   "cell_type": "markdown",
   "id": "8e2028d7",
   "metadata": {},
   "source": [
    "# (2)KNN Regression"
   ]
  },
  {
   "cell_type": "code",
   "execution_count": 37,
   "id": "0cf92c6d",
   "metadata": {},
   "outputs": [],
   "source": [
    "from sklearn.neighbors import KNeighborsRegressor"
   ]
  },
  {
   "cell_type": "code",
   "execution_count": 38,
   "id": "51ad6b67",
   "metadata": {},
   "outputs": [
    {
     "data": {
      "text/plain": [
       "KNeighborsRegressor()"
      ]
     },
     "execution_count": 38,
     "metadata": {},
     "output_type": "execute_result"
    }
   ],
   "source": [
    "kr = KNeighborsRegressor()\n",
    "kr.fit(xtrain,ytrain)"
   ]
  },
  {
   "cell_type": "code",
   "execution_count": 39,
   "id": "90f44396",
   "metadata": {},
   "outputs": [
    {
     "data": {
      "text/plain": [
       "array([1521.   ,  561.   , 1215.   ,  889.5  , 1728.6  , 1054.998,\n",
       "        625.2  ,  976.94 ,  286.8  , 1558.6  , 1668.068, 1049.8  ,\n",
       "       2137.4  , 1653.4  , 1279.   , 1188.4  , 1088.4  , 1367.8  ,\n",
       "       2021.58 , 1698.4  ,  731.8  ,  719.958, 1762.8  , 1267.6  ,\n",
       "       1210.8  , 1162.328,  482.14 ,  566.6  ,  558.   ,  825.   ,\n",
       "       2771.044,  660.6  , 1405.52 , 1310.8  , 1535.6  , 1082.58 ,\n",
       "        741.176,  530.4  ,  460.714, 1218.92 , 1224.6  ,  477.2  ,\n",
       "        655.896,  789.58 , 1415.18 ,  615.736, 1414.4  , 1579.   ,\n",
       "        897.202, 2040.22 , 1243.86 , 1215.   , 1708.8  , 1151.   ,\n",
       "       1031.6  , 1243.86 , 2297.27 , 1180.4  , 1210.4  ,  701.726,\n",
       "       2208.6  , 1513.   , 2061.58 , 2355.172,  686.   , 1651.4  ,\n",
       "        416.2  ,  323.4  , 2725.856,  561.   , 1237.946, 1366.6  ,\n",
       "       1280.878, 1445.2  , 2308.77 , 1234.93 ,  899.4  ,  928.   ,\n",
       "       1325.6  , 1755.496,  473.63 ,  990.932, 1050.   , 1089.962,\n",
       "        453.8  , 1407.198, 1398.678, 1921.   ,  678.354,  418.958,\n",
       "       1608.71 ,  736.602,  930.8  ,  663.   ,  861.6  , 2137.   ,\n",
       "        476.714,  314.8  ,  506.8  , 1481.318, 1894.23 , 1394.6  ,\n",
       "       1317.18 , 1641.   , 2728.   , 2183.266, 2280.368,  607.362,\n",
       "       1857.6  ,  475.21 , 1591.8  ,  732.976, 1233.88 ,  722.2  ,\n",
       "       2383.572, 1203.708, 1849.   ,  473.63 , 2020.69 ,  585.8  ,\n",
       "       1833.096, 1668.068,  908.   , 1419.998, 1088.4  , 1894.23 ,\n",
       "        921.098, 1392.2  , 1271.468,  506.928,  369.   , 2067.   ,\n",
       "        912.   , 2616.62 , 1598.8  ,  659.83 , 1367.014, 1088.4  ,\n",
       "        708.174, 1449.6  , 1638.84 ,  484.638,  616.6  ,  760.202,\n",
       "       1641.896, 1921.   , 1121.198,  411.8  , 1418.678, 1255.   ,\n",
       "       1609.   ,  723.176, 1024.8  ,  569.   ,  698.78 , 1204.776,\n",
       "        321.998,  624.18 , 1074.2  ,  481.138,  869.6  , 1740.2  ,\n",
       "        824.81 ,  818.6  , 1803.   , 1990.198,  303.4  ,  900.628,\n",
       "       2280.368,  261.98 , 1051.732, 1128.8  , 1985.198,  302.2  ,\n",
       "       2136.728, 2499.2  ,  633.49 ,  641.41 ,  731.8  ,  869.6  ,\n",
       "       1626.4  ,  568.714,  723.8  ,  920.6  , 1626.03 , 1282.6  ,\n",
       "        843.   , 1490.6  , 1284.6  ,  953.016,  256.   , 1572.03 ,\n",
       "       1383.198, 1248.2  ,  489.5  ,  322.672, 1620.   , 2439.2  ,\n",
       "        523.658, 2407.272, 1519.38 , 1217.8  ,  526.714,  765.752,\n",
       "        647.6  , 1201.4  ,  375.36 , 1291.78 ,  247.   , 1600.   ,\n",
       "        235.   , 1321.6  , 1495.4  ,  634.458, 1373.83 , 2861.6  ,\n",
       "       1668.068, 1114.264,  433.958, 1186.2  , 1894.23 ,  702.8  ,\n",
       "        708.174, 1963.996, 2951.324,  596.798, 1516.4  , 1448.   ,\n",
       "        956.002, 1773.   ,  815.   , 2939.3  ,  419.158, 1498.   ,\n",
       "       3011.656, 1294.988, 1103.266, 1042.95 , 1887.   ,  645.   ,\n",
       "       2279.832,  422.848,  489.5  ,  720.602,  483.736, 1095.2  ,\n",
       "       1059.35 ,  841.2  ,  711.4  , 1503.798, 1277.616, 2210.366,\n",
       "       1295.18 ,  923.282,  570.338,  569.   ,  442.572, 1545.6  ,\n",
       "        468.   , 1946.6  ,  509.18 , 1398.678,  485.7  , 1668.068,\n",
       "       1800.6  , 1070.12 , 1620.   , 2083.874, 3473.778, 2490.8  ,\n",
       "        887.4  , 1024.8  ,  481.138,  407.978, 1515.8  , 1103.002,\n",
       "        386.752, 1167.266, 1217.6  , 2044.   ,  528.938, 2042.998,\n",
       "       1282.252, 1602.8  ,  462.714, 1000.468,  583.8  , 1078.95 ,\n",
       "        422.676, 1040.83 ,  235.   , 1032.95 , 1083.084,  999.932,\n",
       "        465.38 , 2070.594,  871.698, 1672.43 ,  261.98 , 1215.   ,\n",
       "       1551.052,  344.18 , 1383.198,  410.8  ,  845.618, 1781.4  ,\n",
       "        837.6  ,  838.8  ,  447.056, 1239.8  , 1751.   ,  550.18 ,\n",
       "       1378.6  ,  602.68 , 1636.38 , 1345.   ,  606.338, 1990.198,\n",
       "       1050.6  ,  740.27 ,  795.2  ,  982.928, 1141.   , 2061.58 ,\n",
       "       1086.402,  617.   , 1194.   ,  344.18 ,  383.558, 1179.598,\n",
       "       1238.   , 1219.304,  567.998, 2399.832, 1348.6  ,  877.802,\n",
       "        530.4  , 1383.198,  680.938,  261.98 , 1335.316, 1631.   ,\n",
       "        757.002,  519.2  ,  430.928, 1026.902,  631.   , 1696.432,\n",
       "       1874.4  , 1136.6  , 1654.   ,  559.   , 1401.6  , 2183.266,\n",
       "        765.6  ,  567.998, 1267.4  ,  978.4  ,  851.89 ,  304.2  ,\n",
       "       1282.   ,  790.202,  458.714, 1041.274,  433.958,  561.   ,\n",
       "       1427.6  , 1314.   ,  901.922, 1215.   ,  291.   ,  292.98 ,\n",
       "       1777.198,  998.   ,  444.102, 1990.198, 1156.8  , 1881.   ,\n",
       "        592.8  , 1722.2  ,  668.474, 1381.8  , 1887.   , 1792.498,\n",
       "        901.428, 1002.702, 1162.328,  327.978,  304.2  , 1630.8  ,\n",
       "        720.4  ])"
      ]
     },
     "execution_count": 39,
     "metadata": {},
     "output_type": "execute_result"
    }
   ],
   "source": [
    "kr.predict(xtest)"
   ]
  },
  {
   "cell_type": "code",
   "execution_count": 40,
   "id": "170c7a06",
   "metadata": {},
   "outputs": [
    {
     "data": {
      "text/plain": [
       "0.7509707555790827"
      ]
     },
     "execution_count": 40,
     "metadata": {},
     "output_type": "execute_result"
    }
   ],
   "source": [
    "knn_score = kr.score(xtest, ytest)\n",
    "knn_score"
   ]
  },
  {
   "cell_type": "markdown",
   "id": "b406d3d7",
   "metadata": {},
   "source": [
    "# (3)XGBoost Regression"
   ]
  },
  {
   "cell_type": "code",
   "execution_count": 41,
   "id": "7fdcb341",
   "metadata": {},
   "outputs": [],
   "source": [
    "from xgboost import XGBRegressor"
   ]
  },
  {
   "cell_type": "code",
   "execution_count": 42,
   "id": "2a4ba103",
   "metadata": {},
   "outputs": [],
   "source": [
    "xgb = XGBRegressor()"
   ]
  },
  {
   "cell_type": "code",
   "execution_count": 43,
   "id": "ee75a2e3",
   "metadata": {},
   "outputs": [
    {
     "data": {
      "text/plain": [
       "XGBRegressor(base_score=0.5, booster='gbtree', callbacks=None,\n",
       "             colsample_bylevel=1, colsample_bynode=1, colsample_bytree=1,\n",
       "             early_stopping_rounds=None, enable_categorical=False,\n",
       "             eval_metric=None, gamma=0, gpu_id=-1, grow_policy='depthwise',\n",
       "             importance_type=None, interaction_constraints='',\n",
       "             learning_rate=0.300000012, max_bin=256, max_cat_to_onehot=4,\n",
       "             max_delta_step=0, max_depth=6, max_leaves=0, min_child_weight=1,\n",
       "             missing=nan, monotone_constraints='()', n_estimators=100, n_jobs=0,\n",
       "             num_parallel_tree=1, predictor='auto', random_state=0, reg_alpha=0,\n",
       "             reg_lambda=1, ...)"
      ]
     },
     "execution_count": 43,
     "metadata": {},
     "output_type": "execute_result"
    }
   ],
   "source": [
    "xgb.fit(xtrain,ytrain)"
   ]
  },
  {
   "cell_type": "code",
   "execution_count": 44,
   "id": "c10313f3",
   "metadata": {},
   "outputs": [],
   "source": [
    "xgb_score = xgb.score(xtest,ytest)"
   ]
  },
  {
   "cell_type": "code",
   "execution_count": 45,
   "id": "e9f6a818",
   "metadata": {},
   "outputs": [
    {
     "data": {
      "text/plain": [
       "0.8589833112657055"
      ]
     },
     "execution_count": 45,
     "metadata": {},
     "output_type": "execute_result"
    }
   ],
   "source": [
    "xgb_score\n"
   ]
  },
  {
   "cell_type": "markdown",
   "id": "8fa853b8",
   "metadata": {},
   "source": [
    "# (4) AdaBoostRegressor"
   ]
  },
  {
   "cell_type": "code",
   "execution_count": 46,
   "id": "afe1773f",
   "metadata": {},
   "outputs": [],
   "source": [
    "from sklearn.ensemble import AdaBoostRegressor"
   ]
  },
  {
   "cell_type": "code",
   "execution_count": 47,
   "id": "bc89f0e3",
   "metadata": {},
   "outputs": [],
   "source": [
    "ada = AdaBoostRegressor()"
   ]
  },
  {
   "cell_type": "code",
   "execution_count": 48,
   "id": "7eca8b05",
   "metadata": {},
   "outputs": [
    {
     "data": {
      "text/plain": [
       "AdaBoostRegressor()"
      ]
     },
     "execution_count": 48,
     "metadata": {},
     "output_type": "execute_result"
    }
   ],
   "source": [
    "ada.fit(xtrain,ytrain)"
   ]
  },
  {
   "cell_type": "code",
   "execution_count": 49,
   "id": "da7b5b55",
   "metadata": {},
   "outputs": [],
   "source": [
    "ada_score = ada.score(xtest,ytest)"
   ]
  },
  {
   "cell_type": "code",
   "execution_count": 50,
   "id": "0b82aa94",
   "metadata": {},
   "outputs": [
    {
     "data": {
      "text/plain": [
       "0.639617659417231"
      ]
     },
     "execution_count": 50,
     "metadata": {},
     "output_type": "execute_result"
    }
   ],
   "source": [
    "ada_score"
   ]
  },
  {
   "cell_type": "markdown",
   "id": "5e066041",
   "metadata": {},
   "source": [
    "# (5) Decision tree Regression"
   ]
  },
  {
   "cell_type": "code",
   "execution_count": 51,
   "id": "55b63b86",
   "metadata": {},
   "outputs": [],
   "source": [
    "from sklearn.tree import DecisionTreeRegressor"
   ]
  },
  {
   "cell_type": "code",
   "execution_count": 52,
   "id": "707e68d2",
   "metadata": {},
   "outputs": [],
   "source": [
    "decision_tree = DecisionTreeRegressor()"
   ]
  },
  {
   "cell_type": "code",
   "execution_count": 53,
   "id": "61b77fb0",
   "metadata": {},
   "outputs": [
    {
     "data": {
      "text/plain": [
       "DecisionTreeRegressor()"
      ]
     },
     "execution_count": 53,
     "metadata": {},
     "output_type": "execute_result"
    }
   ],
   "source": [
    "decision_tree.fit(xtrain,ytrain)"
   ]
  },
  {
   "cell_type": "code",
   "execution_count": 54,
   "id": "94348d55",
   "metadata": {},
   "outputs": [],
   "source": [
    "decision_score = decision_tree.score(xtest,ytest)"
   ]
  },
  {
   "cell_type": "code",
   "execution_count": 55,
   "id": "803072b1",
   "metadata": {},
   "outputs": [
    {
     "data": {
      "text/plain": [
       "0.7418423316287606"
      ]
     },
     "execution_count": 55,
     "metadata": {},
     "output_type": "execute_result"
    }
   ],
   "source": [
    "decision_score"
   ]
  },
  {
   "cell_type": "markdown",
   "id": "6ceb02fa",
   "metadata": {},
   "source": [
    "# (6)Random forest Regressor"
   ]
  },
  {
   "cell_type": "code",
   "execution_count": 56,
   "id": "6da21875",
   "metadata": {},
   "outputs": [],
   "source": [
    "from sklearn.ensemble import RandomForestRegressor"
   ]
  },
  {
   "cell_type": "code",
   "execution_count": 57,
   "id": "360b70a7",
   "metadata": {},
   "outputs": [],
   "source": [
    "random_forest = RandomForestRegressor()"
   ]
  },
  {
   "cell_type": "code",
   "execution_count": 58,
   "id": "49e91afe",
   "metadata": {},
   "outputs": [
    {
     "data": {
      "text/plain": [
       "RandomForestRegressor()"
      ]
     },
     "execution_count": 58,
     "metadata": {},
     "output_type": "execute_result"
    }
   ],
   "source": [
    "random_forest.fit(xtrain,ytrain)"
   ]
  },
  {
   "cell_type": "code",
   "execution_count": 59,
   "id": "c0ccbe01",
   "metadata": {},
   "outputs": [],
   "source": [
    "random_score = random_forest.score(xtest,ytest)"
   ]
  },
  {
   "cell_type": "code",
   "execution_count": 60,
   "id": "3ba6753e",
   "metadata": {},
   "outputs": [
    {
     "data": {
      "text/plain": [
       "0.8618866997043116"
      ]
     },
     "execution_count": 60,
     "metadata": {},
     "output_type": "execute_result"
    }
   ],
   "source": [
    "random_score"
   ]
  },
  {
   "cell_type": "markdown",
   "id": "d396a6cd",
   "metadata": {},
   "source": [
    "# Comparison of accuracy scores "
   ]
  },
  {
   "cell_type": "code",
   "execution_count": 61,
   "id": "615f2ebd",
   "metadata": {},
   "outputs": [
    {
     "name": "stdout",
     "output_type": "stream",
     "text": [
      "Linear Regression Score :  0.6615488599822079\n",
      "KNN Regression Score :  0.7509707555790827\n",
      "XGB Regression Score :  0.8589833112657055\n",
      "AdaBoost Regression Score :  0.639617659417231\n",
      "Decision Tree Regression Score :  0.7418423316287606\n",
      "Random Forest Regression Score :  0.8618866997043116\n"
     ]
    }
   ],
   "source": [
    "print(\"Linear Regression Score : \", linear_score)\n",
    "print(\"KNN Regression Score : \", knn_score)\n",
    "print(\"XGB Regression Score : \", xgb_score)\n",
    "print(\"AdaBoost Regression Score : \", ada_score)\n",
    "print(\"Decision Tree Regression Score : \", decision_score)\n",
    "print(\"Random Forest Regression Score : \", random_score)"
   ]
  }
 ],
 "metadata": {
  "kernelspec": {
   "display_name": "Python 3 (ipykernel)",
   "language": "python",
   "name": "python3"
  },
  "language_info": {
   "codemirror_mode": {
    "name": "ipython",
    "version": 3
   },
   "file_extension": ".py",
   "mimetype": "text/x-python",
   "name": "python",
   "nbconvert_exporter": "python",
   "pygments_lexer": "ipython3",
   "version": "3.9.7"
  }
 },
 "nbformat": 4,
 "nbformat_minor": 5
}
